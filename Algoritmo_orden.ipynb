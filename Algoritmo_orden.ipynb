{
  "nbformat": 4,
  "nbformat_minor": 0,
  "metadata": {
    "colab": {
      "provenance": [],
      "authorship_tag": "ABX9TyNw9Xrn8j3pw2AndqwtkL+i",
      "include_colab_link": true
    },
    "kernelspec": {
      "name": "python3",
      "display_name": "Python 3"
    },
    "language_info": {
      "name": "python"
    }
  },
  "cells": [
    {
      "cell_type": "markdown",
      "metadata": {
        "id": "view-in-github",
        "colab_type": "text"
      },
      "source": [
        "<a href=\"https://colab.research.google.com/github/Yumesitahack/PracticasL2/blob/main/Algoritmo_orden.ipynb\" target=\"_parent\"><img src=\"https://colab.research.google.com/assets/colab-badge.svg\" alt=\"Open In Colab\"/></a>"
      ]
    },
    {
      "cell_type": "code",
      "execution_count": 43,
      "metadata": {
        "id": "V22Uu1rZCO5G",
        "colab": {
          "base_uri": "https://localhost:8080/"
        },
        "outputId": "e7f880af-46df-4cad-de91-e6775b585d71"
      },
      "outputs": [
        {
          "output_type": "stream",
          "name": "stdout",
          "text": [
            "Lista de pedidos antes del ordenamiento:\n",
            "{'id': 1, 'repuesto': 'Frenos', 'precio': 150.0}\n",
            "{'id': 2, 'repuesto': 'Aceite', 'precio': 10.0}\n",
            "{'id': 3, 'repuesto': 'Batería', 'precio': 90.0}\n",
            "{'id': 4, 'repuesto': 'Filtro de aire', 'precio': 25.0}\n",
            "{'id': 5, 'repuesto': 'Bujias', 'precio': 5.0}\n",
            "{'id': 6, 'repuesto': 'Amortiguadores', 'precio': 300.0}\n",
            "\n",
            "Lista de pedidos después del ordenamiento:\n",
            "{'id': 5, 'repuesto': 'Bujias', 'precio': 5.0}\n",
            "{'id': 2, 'repuesto': 'Aceite', 'precio': 10.0}\n",
            "{'id': 4, 'repuesto': 'Filtro de aire', 'precio': 25.0}\n",
            "{'id': 3, 'repuesto': 'Batería', 'precio': 90.0}\n",
            "{'id': 1, 'repuesto': 'Frenos', 'precio': 150.0}\n",
            "{'id': 6, 'repuesto': 'Amortiguadores', 'precio': 300.0}\n"
          ]
        }
      ],
      "source": [
        "# Bubble Sort Implementation in Python\n",
        "\n",
        "def bubble_sort(pedidos):\n",
        "    n = len(pedidos)\n",
        "\n",
        "    for i in range(n):\n",
        "\n",
        "        for j in range(0, n-i-1):\n",
        "\n",
        "            if pedidos[j]['precio'] > pedidos[j+1]['precio']:\n",
        "\n",
        "                pedidos[j], pedidos[j+1] = pedidos[j+1], pedidos[j]\n",
        "    return pedidos\n",
        "\n",
        "pedidos = [\n",
        "{'id':1,'repuesto':'Frenos','precio':150.00},\n",
        "{'id':2,'repuesto':'Aceite','precio':10.00},\n",
        "{'id':3,'repuesto':'Batería','precio':90.00},\n",
        "{'id':4,'repuesto':'Filtro de aire','precio':25.00},\n",
        "{'id':5,'repuesto':'Bujias','precio':5.00},\n",
        "{'id':6,'repuesto':'Amortiguadores','precio':300.00}\n",
        "]\n",
        "\n",
        "print(\"Lista de pedidos antes del ordenamiento:\")\n",
        "for pedido in pedidos:\n",
        "    print(pedido)\n",
        "\n",
        "pedidos_ordenados = bubble_sort(pedidos)\n",
        "\n",
        "print(\"\\nLista de pedidos después del ordenamiento:\")\n",
        "for pedido in pedidos_ordenados:\n",
        "    print(pedido)"
      ]
    },
    {
      "cell_type": "code",
      "source": [],
      "metadata": {
        "id": "IaMj0RfiDUm3"
      },
      "execution_count": null,
      "outputs": []
    },
    {
      "cell_type": "markdown",
      "source": [
        "Se desarrolla una aplicación web de ventas de repuestos para carros (Carfix). Está aplicación permite a los usuarios hacer pedidos de diferentes cosas, pero a medida que la cantidad de pedidos aumenta, se vuelve complicado ordenar y mostrar de manera eficiente la lista de pedidos alos empleados encargados de preparar los envíos. La idea es permitir que los pedidos sean visualizados en un orden específico. Por ejemplo, se desea ordenar los pedidos por fecha de creación para asegurar que los más viejos sean procesados primero. Para eso se utiliza el algoritmo de ordenamiento bubble sort, para ordenar los pedidos por el precio del repuesto en orden ascendente\n",
        "\n",
        "Solución: se usará el algoritmo de bubble sort para ordenar una lista de pedidos. Cada pedido se representará como un diccionario que contendrá información sobre el id del pedido, el nombre del repuesto y el precio. La idea es comparar los precios de los pedidos y realizar intercambios cuando sea necesario, hasta que la lista esté completamente ordenada.\n",
        "\n",
        "Es importante mencionar que Bubble Sort no es el algoritmo más eficiente para grandes conjuntos de datos ya que es un algoritmo básico."
      ],
      "metadata": {
        "id": "xliz1ZIIGc15"
      }
    }
  ]
}