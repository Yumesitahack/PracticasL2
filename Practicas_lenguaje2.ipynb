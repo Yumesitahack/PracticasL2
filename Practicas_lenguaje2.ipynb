{
  "nbformat": 4,
  "nbformat_minor": 0,
  "metadata": {
    "colab": {
      "provenance": [],
      "toc_visible": true,
      "authorship_tag": "ABX9TyMt0ZvW/4de8+ntRYC7Hk0c",
      "include_colab_link": true
    },
    "kernelspec": {
      "name": "python3",
      "display_name": "Python 3"
    },
    "language_info": {
      "name": "python"
    }
  },
  "cells": [
    {
      "cell_type": "markdown",
      "metadata": {
        "id": "view-in-github",
        "colab_type": "text"
      },
      "source": [
        "<a href=\"https://colab.research.google.com/github/Yumesitahack/PracticasL2/blob/main/Practicas_lenguaje2.ipynb\" target=\"_parent\"><img src=\"https://colab.research.google.com/assets/colab-badge.svg\" alt=\"Open In Colab\"/></a>"
      ]
    },
    {
      "cell_type": "code",
      "execution_count": null,
      "metadata": {
        "colab": {
          "base_uri": "https://localhost:8080/"
        },
        "id": "F_pU3_41tK91",
        "outputId": "498b3112-7df4-4852-a29d-d73bee4d28b1"
      },
      "outputs": [
        {
          "output_type": "stream",
          "name": "stdout",
          "text": [
            "Drive already mounted at /content/drive; to attempt to forcibly remount, call drive.mount(\"/content/drive\", force_remount=True).\n",
            "Archivos en el directorio:\n",
            "Practicas lenguaje2.ipynb\n"
          ]
        }
      ],
      "source": [
        "#miapp.py\n",
        "from google.colab import drive\n",
        "import os\n",
        "\n",
        "drive.mount('/content/drive')\n",
        "\n",
        "directory = '/content/drive/My Drive/Colab Notebooks'\n",
        "\n",
        "def list_files_in_directory(directory):\n",
        "    try:\n",
        "        files = os.listdir(directory)\n",
        "        print(\"Archivos en el directorio:\")\n",
        "        for file in files:\n",
        "            print(file)\n",
        "    except FileNotFoundError:\n",
        "        print(\"Directorio no encontrado.\")\n",
        "\n",
        "list_files_in_directory(directory)"
      ]
    }
  ]
}